{
  "nbformat": 4,
  "nbformat_minor": 0,
  "metadata": {
    "colab": {
      "name": "Untitled2.ipynb",
      "provenance": []
    },
    "kernelspec": {
      "name": "python3",
      "display_name": "Python 3"
    },
    "language_info": {
      "name": "python"
    }
  },
  "cells": [
    {
      "cell_type": "code",
      "source": [
        "even=0\n",
        "odd=0\n",
        "for i in range(1,10):\n",
        "  if i%2==0:\n",
        "    even +=1\n",
        "  else:\n",
        "    odd+=1\n",
        "print(\"No of even numbers : \",even)\n",
        "print(\"no of odd numbers : \",odd)\n",
        "print(i)    \n",
        "\n"
      ],
      "metadata": {
        "colab": {
          "base_uri": "https://localhost:8080/"
        },
        "id": "Pa3WTRYkGUNd",
        "outputId": "63a5424a-a67c-4d82-9fec-f385b6fb217b"
      },
      "execution_count": 25,
      "outputs": [
        {
          "output_type": "stream",
          "name": "stdout",
          "text": [
            "No of even numbers :  4\n",
            "no of odd numbers :  5\n",
            "9\n"
          ]
        }
      ]
    },
    {
      "cell_type": "code",
      "source": [
        "# the value of i is from 1 to 9 "
      ],
      "metadata": {
        "id": "A0xGrKGhIj36"
      },
      "execution_count": null,
      "outputs": []
    },
    {
      "cell_type": "code",
      "source": [
        ""
      ],
      "metadata": {
        "id": "etghXwn9IijO"
      },
      "execution_count": null,
      "outputs": []
    },
    {
      "cell_type": "code",
      "source": [
        ""
      ],
      "metadata": {
        "id": "vJvOkv87IfvB"
      },
      "execution_count": null,
      "outputs": []
    },
    {
      "cell_type": "code",
      "source": [
        ""
      ],
      "metadata": {
        "id": "lzQYqAA3HleI"
      },
      "execution_count": null,
      "outputs": []
    }
  ]
}