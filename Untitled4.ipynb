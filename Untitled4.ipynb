{
  "nbformat": 4,
  "nbformat_minor": 0,
  "metadata": {
    "colab": {
      "name": "Untitled4.ipynb",
      "provenance": []
    },
    "kernelspec": {
      "name": "python3",
      "display_name": "Python 3"
    },
    "language_info": {
      "name": "python"
    }
  },
  "cells": [
    {
      "cell_type": "code",
      "execution_count": null,
      "metadata": {
        "id": "5FVvhz6pKQuV"
      },
      "outputs": [],
      "source": [
        "#assignment 1\n",
        "write the code for Fibonacci numbers for the 0 to 50\n",
        "## Fibonacci series :Every next number is found by adding up the two numbers before it.\n",
        "#for example:0,1,2,3....\n",
        "# take two numbers  x=0,y=1:0+1=1   x=1,y=2:1+2=3\n",
        "\n",
        "  "
      ]
    },
    {
      "cell_type": "code",
      "source": [
        "x,y=0,1             #0,1      #1,1   #1,2  #2,3   #3,5\n",
        "\n",
        "while y<50:\n",
        "    print(y)        #1       #1      #2     #3      #5\n",
        "    x,y = y,x+y     #1,1     #1,2    #2,3   #3,5    #5,8\n",
        "\t"
      ],
      "metadata": {
        "colab": {
          "base_uri": "https://localhost:8080/"
        },
        "id": "3pNWU9vGINQy",
        "outputId": "333affb6-59e9-416a-ce57-f121d044e482"
      },
      "execution_count": 5,
      "outputs": [
        {
          "output_type": "stream",
          "name": "stdout",
          "text": [
            "1\n",
            "1\n",
            "2\n",
            "3\n",
            "5\n",
            "8\n",
            "13\n",
            "21\n",
            "34\n"
          ]
        }
      ]
    },
    {
      "cell_type": "code",
      "source": [
        ""
      ],
      "metadata": {
        "id": "jIg8-JFjJWL9"
      },
      "execution_count": null,
      "outputs": []
    }
  ]
}