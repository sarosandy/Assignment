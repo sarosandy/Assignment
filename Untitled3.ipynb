{
  "nbformat": 4,
  "nbformat_minor": 0,
  "metadata": {
    "colab": {
      "name": "Untitled3.ipynb",
      "provenance": []
    },
    "kernelspec": {
      "name": "python3",
      "display_name": "Python 3"
    },
    "language_info": {
      "name": "python"
    }
  },
  "cells": [
    {
      "cell_type": "code",
      "execution_count": 2,
      "metadata": {
        "colab": {
          "base_uri": "https://localhost:8080/"
        },
        "id": "UsvkOvNxJTYC",
        "outputId": "439a921c-45c6-4932-83f7-c07c1e6313f0"
      },
      "outputs": [
        {
          "output_type": "stream",
          "name": "stdout",
          "text": [
            "Enter string: Edyoda\n",
            "adoydE\n"
          ]
        }
      ],
      "source": [
        "input = input(\"Enter string: \")\n",
        "reversed = input[::-1]\n",
        "print(reversed)"
      ]
    },
    {
      "cell_type": "code",
      "source": [
        "# [::-1] is used to print the reverse order of the given word that is present inside the quotes."
      ],
      "metadata": {
        "id": "vv3vbB5QJYNC"
      },
      "execution_count": null,
      "outputs": []
    }
  ]
}